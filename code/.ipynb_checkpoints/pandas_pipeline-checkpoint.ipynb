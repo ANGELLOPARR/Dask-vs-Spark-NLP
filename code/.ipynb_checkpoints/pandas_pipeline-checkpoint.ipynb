{
 "cells": [
  {
   "cell_type": "code",
   "execution_count": 1,
   "id": "04302f5d-c1cb-4242-992d-d5b62ffd8484",
   "metadata": {},
   "outputs": [],
   "source": [
    "%load_ext autoreload\n",
    "%autoreload 2\n",
    "\n",
    "# MISC\n",
    "import gzip\n",
    "import multiprocessing\n",
    "import time\n",
    "import json\n",
    "import pandas as pd\n",
    "import numpy as np\n",
    "from collections import defaultdict\n",
    "from shared import *\n",
    "cpu_cores = multiprocessing.cpu_count()\n",
    "data_path_50MB = '/Users/angelloparr/Documents/csc369/project.nosync/data_uncompressed/Gift_Cards.json'\n",
    "data_path_263MB = '/Users/angelloparr/Documents/csc369/project.nosync/data_uncompressed/Appliances.json'\n",
    "data_path_755MB = '/Users/angelloparr/Documents/csc369/project.nosync/data_uncompressed/Digital_Music.json'\n",
    "data_path_2GB = '/Users/angelloparr/Documents/csc369/project.nosync/data_uncompressed/Video_Games.json'\n",
    "data_path_10GB = '/Users/angelloparr/Documents/csc369/project.nosync/data_uncompressed/reviews_Books_1.json'\n",
    "data_path_38GB = '/Users/angelloparr/Documents/csc369/project.nosync/data_uncompressed/Books_big.json'\n",
    "\n",
    "# NLTK\n",
    "# Note, you may have to download 'Punkt' and other things through NLTK\n",
    "import nltk\n",
    "from nltk.stem import WordNetLemmatizer\n",
    "from nltk.stem import PorterStemmer\n",
    "from nltk.tokenize import word_tokenize\n",
    "from nltk.corpus import wordnet\n",
    "from nltk.corpus import stopwords\n",
    "lemmatizer = WordNetLemmatizer()\n",
    "stemmer = PorterStemmer()\n",
    "stop_words = set(stopwords.words('english'))"
   ]
  },
  {
   "cell_type": "markdown",
   "id": "4b1e9cd5-3e17-43ed-8d95-d9fef5754527",
   "metadata": {},
   "source": [
    "## Pandas Operations"
   ]
  },
  {
   "cell_type": "code",
   "execution_count": null,
   "id": "4f7497da-1edc-4384-b056-466abf5579b2",
   "metadata": {},
   "outputs": [
    {
     "name": "stdout",
     "output_type": "stream",
     "text": [
      "Elapsed time for operation: 0.5522429943084717\n",
      "Elapsed time for operation: 0.02384471893310547\n",
      "Elapsed time for operation: 13.681278944015503\n",
      "Elapsed time for operation: 48.012821197509766\n"
     ]
    }
   ],
   "source": [
    "begin = time.time()\n",
    "start = begin\n",
    "\n",
    "reviews_df = pd.read_json(data_path_50MB, orient='records', lines=True)\n",
    "\n",
    "## Drop unwanted columns / keep good ones\n",
    "columns = ['reviewerID', 'reviewText']\n",
    "reviews_df = reviews_df[columns]\n",
    "print_elapsed(start)\n",
    "\n",
    "## Drop empty (NaN) rows\n",
    "start = time.time()\n",
    "reviews_df = reviews_df.dropna()\n",
    "print_elapsed(start)\n",
    "\n",
    "## Tokenize words in review\n",
    "start = time.time()\n",
    "reviews_df['tokenized_dirty'] = reviews_df['reviewText'].apply(nltk.word_tokenize)\n",
    "print_elapsed(start)\n",
    "\n",
    "## Remove stop words\n",
    "start = time.time()\n",
    "reviews_df['tokenized_review'] = reviews_df['tokenized_dirty'].apply(lambda tokens: [w for w in tokens if w.lower() not in stop_words])\n",
    "\n",
    "## Perform Part-Of-Speech (POS) tagging on tokens\n",
    "start = time.time()\n",
    "reviews_df['tok/pos'] = reviews_df['tokenized_review'].apply(my_pos_tag)\n",
    "print_elapsed(start)\n",
    "\n",
    "## Stem words in tokenized review\n",
    "start = time.time()\n",
    "reviews_df['stemmed_review'] = reviews_df['tokenized_review'].apply(lambda tokens: [stemmer.stem(t) for t in tokens])\n",
    "print_elapsed(start)\n",
    "\n",
    "## Lemmatize words in tokenized review\n",
    "start = time.time()\n",
    "reviews_df['lemmatized_review'] = reviews_df['tok/pos'].apply(lambda tokens: [lemmatizer.lemmatize(t, pos) for (t, pos) in tokens])\n",
    "print_elapsed(start)\n",
    "\n",
    "print(f'Total execution time: {time.time() - begin}')\n"
   ]
  },
  {
   "cell_type": "code",
   "execution_count": null,
   "id": "c71b6dea-fe2d-4dd6-9067-897484d742f0",
   "metadata": {},
   "outputs": [],
   "source": [
    "reviews_df"
   ]
  },
  {
   "cell_type": "code",
   "execution_count": null,
   "id": "452268a1-4377-4199-b184-e598ed931e5d",
   "metadata": {},
   "outputs": [],
   "source": []
  }
 ],
 "metadata": {
  "kernelspec": {
   "display_name": "Python 3 (ipykernel)",
   "language": "python",
   "name": "python3"
  },
  "language_info": {
   "codemirror_mode": {
    "name": "ipython",
    "version": 3
   },
   "file_extension": ".py",
   "mimetype": "text/x-python",
   "name": "python",
   "nbconvert_exporter": "python",
   "pygments_lexer": "ipython3",
   "version": "3.9.9"
  }
 },
 "nbformat": 4,
 "nbformat_minor": 5
}
